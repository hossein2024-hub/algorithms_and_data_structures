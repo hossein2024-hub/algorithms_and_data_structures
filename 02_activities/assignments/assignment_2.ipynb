{
 "cells": [
  {
   "cell_type": "markdown",
   "metadata": {},
   "source": [
    "# Practice Interview\n",
    "\n",
    "## Objective\n",
    "\n",
    "_*The partner assignment aims to provide participants with the opportunity to practice coding in an interview context. You will analyze your partner's Assignment 1. Moreover, code reviews are common practice in a software development team. This assignment should give you a taste of the code review process.*_\n",
    "\n",
    "## Group Size\n",
    "\n",
    "Each group should have 2 people. You will be assigned a partner\n",
    "\n",
    "## Part 1:\n",
    "\n",
    "You and your partner must share each other's Assignment 1 submission."
   ]
  },
  {
   "cell_type": "markdown",
   "metadata": {},
   "source": [
    "\n",
    "## Part 2:\n",
    "\n",
    "Create a Jupyter Notebook, create 6 of the following headings, and complete the following for your partner's assignment 1:\n",
    "\n",
    "-   Paraphrase the problem in your own words.\n"
   ]
  },
  {
   "cell_type": "markdown",
   "metadata": {},
   "source": [
    "<span style = \"color:green; font-weight=bold\"> Answer </span> : \n",
    "\n",
    "The problem is to determine whether a binary tree contains any duplicate values when the root of the tree is given. \n",
    "- If a duplicate exist --> Return the first duplicate in a level-order traversal (Breadth-first Search)\n",
    "- If multiple duplicates exist --> return the one closest to the root\n",
    "- If no duplicate is found --> return -1!"
   ]
  },
  {
   "cell_type": "markdown",
   "metadata": {},
   "source": [
    "\n",
    "-   Create 1 new example that demonstrates you understand the problem. Trace/walkthrough 1 example that your partner made and explain it.\n"
   ]
  },
  {
   "cell_type": "markdown",
   "metadata": {},
   "source": [
    "<span style = \"color:green; font-weight:bold\"> Example 1 </span> :\n",
    "\n",
    "Input : `root = [4, 2, 5, 6, 2, 3, 8]`\n",
    "Output: `2`\n",
    "\n",
    "<span style= \"color:green; font-weight:bold\"> The partner's example </span> : \n",
    "\n",
    "`root_list = [5, 3, 8, 2, 3, None, 9]'\n",
    "\n",
    "<span style= color:blue> Walkthrough the example </span>:\n",
    "\n",
    "1) Track seen values: `{5} → {5, 3} → {5, 3, 8} → {5, 3, 8, 2}`.\n",
    "2) Encounter `3` again at index `4`. Since `3` is the first duplicate, return `3`.\n",
    "\n",
    "\n"
   ]
  },
  {
   "cell_type": "markdown",
   "metadata": {},
   "source": [
    "\n",
    "-   Copy the solution your partner wrote. \n"
   ]
  },
  {
   "cell_type": "code",
   "execution_count": null,
   "metadata": {},
   "outputs": [],
   "source": [
    "# Definition for a binary tree node.\n",
    "class TreeNode(object):  \n",
    "    def __init__(self, val=0, left=None, right=None):\n",
    "        self.val = val\n",
    "        self.left = left\n",
    "        self.right = right\n",
    "\n",
    "def is_duplicate(root: TreeNode) -> int:\n",
    "    if not root:\n",
    "        return -1  # Return -1 if the tree is empty\n",
    "\n",
    "    seen = set()\n",
    "    queue = [root]  # Use a queue for BFS (level-order traversal)\n",
    "\n",
    "    while queue:\n",
    "        node = queue.pop(0)  # Process the first node in the queue\n",
    "        \n",
    "        if node.val in seen:\n",
    "            return node.val  # Return the first duplicate found\n",
    "        seen.add(node.val)\n",
    "\n",
    "        if node.left:\n",
    "            queue.append(node.left)\n",
    "        if node.right:\n",
    "            queue.append(node.right)\n",
    "\n",
    "    return -1  # No duplicate found\n"
   ]
  },
  {
   "cell_type": "markdown",
   "metadata": {},
   "source": [
    "\n",
    "-   Explain why their solution works in your own words.\n"
   ]
  },
  {
   "cell_type": "markdown",
   "metadata": {},
   "source": [
    "<span style = \"color:green;font-weight: bold\"> Answer </span> :\n",
    "\n",
    "This solution detects the first duplicate in a binary tree using a **Breadth-First Search (BFS)** approach. It starts by checking if the tree is empty, returning `-1` if there is no root node. A **set (`seen`)** is used to track traveresed  values. A **queue** facilitates **level-order traversal**, where nodes are processed one by one. If a node’s value is already in `seen`, it is immediately returned, ensuring that the closest-to-root duplicate is identified. Otherwise, the value is added to the set, and the node’s left and right children are enqueued for further processing. If no duplicates are found, it returns `-1`."
   ]
  },
  {
   "cell_type": "markdown",
   "metadata": {},
   "source": [
    "\n",
    "-   Explain the problem’s time and space complexity in your own words.\n"
   ]
  },
  {
   "cell_type": "markdown",
   "metadata": {},
   "source": [
    "<span style= \"color:green;font-weight:bold\"> Answer </span> : \n",
    "\n",
    "- Time Complexity: O(N) (each node is visited once).\n",
    "- Space Complexity: O(N) (set and queue store up to N elements in the worst case)"
   ]
  },
  {
   "cell_type": "markdown",
   "metadata": {},
   "source": [
    "\n",
    "-   Critique your partner's solution, including explanation, and if there is anything that should be adjusted.\n"
   ]
  },
  {
   "cell_type": "markdown",
   "metadata": {},
   "source": [
    "<span style= \"color:green; font-weight:bold\"> Answer </span> : \n",
    "\n",
    "- **Critique of the Provided Code Solution**\n",
    "The BFS-based solution correctly identifies the first duplicate value closest to the root. However, in my opinion, in terms o the implementation, using `queue.pop(0)` results in `O(N)` worst-case performance due to list shifting to delete the first item of the queue and then shift every elements to the left to fill the first index of the queue list. A `deque (collections.deque)` would be a better alternative for `O(1) popping` from the front. Otherwise, the solution is optimal in terms of correctness, clarity, and time complexity.\n",
    "\n",
    "- **Critique of the alternative (DFS) solution**\n",
    "The DFS approach is correctly described but has a major flaw: it does not guarantee finding the closest-to-root duplicate first. Since DFS explores a subtree fully before backtracking, it might return a duplicate that is deeper in the tree rather than the first encountered in level order."
   ]
  },
  {
   "cell_type": "markdown",
   "metadata": {},
   "source": [
    "\n",
    "## Part 3:\n",
    "\n",
    "Please write a 200 word reflection documenting your process from assignment 1, and your presentation and review experience with your partner at the bottom of the Jupyter Notebook under a new heading \"Reflection.\" Again, export this Notebook as pdf.\n"
   ]
  },
  {
   "cell_type": "markdown",
   "metadata": {},
   "source": [
    "### Reflection"
   ]
  },
  {
   "cell_type": "markdown",
   "metadata": {},
   "source": [
    "<span style = \"color:green;font-weight:bold\"> Answer </span> :\n",
    "\n",
    "In Assignment 1, I worked on finding all root-to-leaf paths in a binary tree. I first used a **recursive DFS approach**, then suggested a **stack-based iterative method** in pseudocode. I also analyzed the **time and space complexity**, explaining how recursion naturally fits tree traversal to find all paths efficiently.  \n",
    "\n",
    "In Assignment 2, I reviewed a peer’s **BFS-based solution** for detecting the first duplicate in a binary tree. Their approach used a **queue for level-order traversal**, ensuring the closest duplicate was found first. They also proposed **DFS** as an alternative solution, but I found a DFS does not guarantee finding the duplicate in level order because it explores a subtree fully before backtracking. I also noticed that their BFS implementation used **pop(0) on a list**, which is **O(N) due to shifting elements**. I suggested using **collections.deque.popleft()**, which is **O(1)** and much more efficient.  \n",
    "\n",
    "This review process helped me understand **BFS vs. DFS** in solving different problems. It also showed me how choosing the right **data structures** impacts performance. Comparing methods and identifying inefficiencies strengthened my ability to write better, optimized code for tree problems while improving my problem-solving skills."
   ]
  },
  {
   "cell_type": "markdown",
   "metadata": {},
   "source": [
    "\n",
    "## Evaluation Criteria\n",
    "\n",
    "We are looking for the similar points as Assignment 1\n",
    "\n",
    "-   Problem is accurately stated\n",
    "\n",
    "-   New example is correct and easily understandable\n",
    "\n",
    "-   Correctness, time, and space complexity of the coding solution\n",
    "\n",
    "-   Clarity in explaining why the solution works, its time and space complexity\n",
    "\n",
    "-   Quality of critique of your partner's assignment, if necessary\n"
   ]
  },
  {
   "cell_type": "markdown",
   "metadata": {},
   "source": [
    "## Submission Information\n",
    "\n",
    "🚨 **Please review our [Assignment Submission Guide](https://github.com/UofT-DSI/onboarding/blob/main/onboarding_documents/submissions.md)** 🚨 for detailed instructions on how to format, branch, and submit your work. Following these guidelines is crucial for your submissions to be evaluated correctly.\n",
    "\n",
    "### Submission Parameters:\n",
    "* Submission Due Date: `HH:MM AM/PM - DD/MM/YYYY`\n",
    "* The branch name for your repo should be: `assignment-2`\n",
    "* What to submit for this assignment:\n",
    "    * This Jupyter Notebook (assignment_2.ipynb) should be populated and should be the only change in your pull request.\n",
    "* What the pull request link should look like for this assignment: `https://github.com/<your_github_username>/algorithms_and_data_structures/pull/<pr_id>`\n",
    "    * Open a private window in your browser. Copy and paste the link to your pull request into the address bar. Make sure you can see your pull request properly. This helps the technical facilitator and learning support staff review your submission easily.\n",
    "\n",
    "Checklist:\n",
    "- [ ] Created a branch with the correct naming convention.\n",
    "- [ ] Ensured that the repository is public.\n",
    "- [ ] Reviewed the PR description guidelines and adhered to them.\n",
    "- [ ] Verify that the link is accessible in a private browser window.\n",
    "\n",
    "If you encounter any difficulties or have questions, please don't hesitate to reach out to our team via our Slack at `#cohort-3-help`. Our Technical Facilitators and Learning Support staff are here to help you navigate any challenges.\n"
   ]
  }
 ],
 "metadata": {
  "kernelspec": {
   "display_name": "dsi_participant",
   "language": "python",
   "name": "python3"
  },
  "language_info": {
   "name": "python",
   "version": "3.9.15"
  }
 },
 "nbformat": 4,
 "nbformat_minor": 2
}
